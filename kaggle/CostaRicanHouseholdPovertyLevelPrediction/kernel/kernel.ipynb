{
 "cells": [
  {
   "cell_type": "code",
   "execution_count": 1,
   "metadata": {
    "collapsed": true
   },
   "outputs": [],
   "source": [
    "import pandas as pd\n",
    "import numpy as np\n",
    "import lightgbm as lgb\n",
    "from sklearn.model_selection import KFold, GridSearchCV, train_test_split, cross_val_score\n",
    "from sklearn import model_selection\n",
    "from sklearn.ensemble import RandomForestClassifier\n",
    "from sklearn.metrics import f1_score, make_scorer\n",
    "from sklearn.utils import class_weight\n",
    "from scipy.stats import uniform as sp_uniform"
   ]
  },
  {
   "cell_type": "code",
   "execution_count": 2,
   "metadata": {
    "collapsed": true
   },
   "outputs": [],
   "source": [
    "n_folds = 5"
   ]
  },
  {
   "cell_type": "code",
   "execution_count": 3,
   "metadata": {
    "collapsed": true
   },
   "outputs": [],
   "source": [
    "train_data = pd.read_csv(\"../input/train.csv\")\n",
    "test_data = pd.read_csv(\"../input/test.csv\")"
   ]
  },
  {
   "cell_type": "code",
   "execution_count": 4,
   "metadata": {
    "collapsed": true
   },
   "outputs": [],
   "source": [
    "target = train_data.pop('Target')\n",
    "test_id = test_data.pop('Id')"
   ]
  },
  {
   "cell_type": "code",
   "execution_count": 5,
   "metadata": {
    "collapsed": true
   },
   "outputs": [],
   "source": [
    "def remove_str(df):\n",
    "    df = df.applymap(lambda x: 0 if x == 'no' else (1 if x == 'yes' else x))"
   ]
  },
  {
   "cell_type": "code",
   "execution_count": 6,
   "metadata": {
    "collapsed": true
   },
   "outputs": [],
   "source": [
    "def remove_object_from_dependency(df):\n",
    "    df['dependency'] = np.sqrt(df['SQBdependency'])"
   ]
  },
  {
   "cell_type": "code",
   "execution_count": 7,
   "metadata": {
    "collapsed": true
   },
   "outputs": [],
   "source": [
    "def calculate_edu(row):\n",
    "    if (row['edjefe'] == 'yes' and row['edjefa'] == 'no') or (row['edjefe'] == 'no' and row['edjefa'] == 'yes'):\n",
    "        return 1\n",
    "    if row['edjefe'] == 'no' and row['edjefa'] == 'no':\n",
    "        return 0\n",
    "    if row['edjefe'] == 'yes' or row['edjefe'] == 'no':\n",
    "        return pd.to_numeric(row['edjefa'])\n",
    "    return pd.to_numeric(row['edjefe'])\n",
    "\n",
    "def clean_edu(df):\n",
    "    df['house_holder_edu'] = df.apply(calculate_edu, axis=1).values"
   ]
  },
  {
   "cell_type": "code",
   "execution_count": 8,
   "metadata": {
    "collapsed": true
   },
   "outputs": [],
   "source": [
    "def calculate_mean_edu(group):\n",
    "    avg = group[group['age'] >= 18]['escolari'].mean()\n",
    "    group['meaneduc_'] = avg if avg else 0.0\n",
    "    return group\n",
    "\n",
    "def clean_mean_edu(df):\n",
    "    df['meaneduc'] = df[['idhogar', 'age', 'escolari']].groupby('idhogar').apply(calculate_mean_edu)['meaneduc_']\n",
    "    df['SQBmeaned'] = np.square(df['meaneduc'])"
   ]
  },
  {
   "cell_type": "code",
   "execution_count": 9,
   "metadata": {
    "collapsed": true
   },
   "outputs": [],
   "source": [
    "def f1_cv(model, train, label):\n",
    "    kf = KFold(n_folds, shuffle=True, random_state=42)\n",
    "    return cross_val_score(model, train, label, scoring=make_scorer(f1_score, average = \"macro\"), cv = kf)"
   ]
  },
  {
   "cell_type": "code",
   "execution_count": 10,
   "metadata": {
    "collapsed": true
   },
   "outputs": [],
   "source": [
    "def add_more_feature(df):\n",
    "    df['Rent_per_individual'] = df['v2a1'] / df['r4t3']\n",
    "    #df['Rent_per_child'] = df['v2a1'] / df['r4t1']\n",
    "    df['Rent_per_over_65'] = df['v2a1'] / df['r4t3']\n",
    "    df['Rent_per_room'] = df['v2a1'] / df['rooms']\n",
    "    df['Rent_per_bedrooms'] = df['v2a1'] / df['bedrooms']\n",
    "    df['Proportion_under_12'] = df['r4t1'] / df['r4t3']\n",
    "    df['Proportion_under_12_male'] = df['r4h1'] / df['r4t3']\n",
    "    df['Proportion_under_12_female'] = df['r4m1'] / df['r4t3']\n",
    "    df['Proportion_male'] = df['r4h3'] / df['r4t3']\n",
    "    df['Proportion_female'] = df['r4m3'] / df['r4t3']\n",
    "    df['Rooms_per_individual'] = df['rooms'] / df['r4t3']\n",
    "    #df['Rooms_per_child'] = df['rooms'] / df['r4t1']\n",
    "    df['Tablets_per_individual'] = df['v18q1'] / df['r4t3']\n",
    "    #df['Tablets_per_child'] = df['v18q1'] / df['r4t1']\n",
    "    df['Years_schooling_per_individual'] = df['escolari'] / df['r4t3']\n",
    "    df['Years_schooling_per_adult'] = df['escolari'] / (df['r4t3'] - df['r4t1'])\n",
    "    #df['Years_schooling_per_child'] = df['escolari'] / df['r4t1']\n",
    "    df['Proportion_under_19'] = df['hogar_nin'] / df['r4t3']\n",
    "    df['Proportion_over_19'] = df['hogar_adul'] / df['r4t3']\n",
    "    df['Proportion_under_65'] = (df['hogar_total'] - df['hogar_mayor']) / df['r4t3']\n",
    "    df['Proportion_over_65'] = df['hogar_mayor'] / df['r4t3']\n",
    "    df['Bedrooms_per_individual'] = df['bedrooms'] / df['r4t3']\n",
    "    #df['Bedrooms_per_child'] = df['bedrooms'] / df['r4t1']\n",
    "    df['Bedrooms_per_over_65'] = df['bedrooms'] / df['r4t3']\n",
    "    df['Extreme_conditions_flag'] = (df['abastaguano'] & df['noelec'] & df['sanitario1'] & df['energcocinar1'])\n",
    "    df['bedrooms_to_rooms'] = df['bedrooms'] / df['rooms']\n",
    "    df['tamhog_to_rooms'] = df['tamhog'] / df['rooms']\n",
    "    df['tamhog_to_bedrooms'] = df['tamhog'] / df['bedrooms']\n",
    "    df['r4t3_to_tamhog'] = df['r4t3'] / df['tamhog']\n",
    "    df['hhsize_to_rooms'] = df['hhsize'] / df['rooms']\n",
    "    df['hhsize_to_bedrooms'] = df['hhsize'] / df['bedrooms']\n",
    "    df['rent_to_hhsize'] = df['v2a1'] / df['hhsize']\n",
    "    df['qmobilephone_to_r4t3'] = df['qmobilephone'] / df['r4t3']\n",
    "    #df['qmobilephone_to_v18q1'] = df['qmobilephone'] / df['v18q1']"
   ]
  },
  {
   "cell_type": "code",
   "execution_count": 11,
   "metadata": {
    "collapsed": true
   },
   "outputs": [],
   "source": [
    "remove_str(train_data)\n",
    "remove_str(test_data)"
   ]
  },
  {
   "cell_type": "code",
   "execution_count": 12,
   "metadata": {
    "collapsed": true
   },
   "outputs": [],
   "source": [
    "remove_object_from_dependency(train_data)\n",
    "remove_object_from_dependency(test_data)"
   ]
  },
  {
   "cell_type": "code",
   "execution_count": 13,
   "metadata": {
    "collapsed": true
   },
   "outputs": [],
   "source": [
    "clean_edu(train_data)\n",
    "clean_edu(test_data)"
   ]
  },
  {
   "cell_type": "code",
   "execution_count": 14,
   "metadata": {
    "collapsed": true
   },
   "outputs": [],
   "source": [
    "clean_mean_edu(train_data)\n",
    "clean_mean_edu(test_data)"
   ]
  },
  {
   "cell_type": "code",
   "execution_count": 15,
   "metadata": {
    "collapsed": true
   },
   "outputs": [],
   "source": [
    "train_data = train_data.fillna(0)\n",
    "test_data = test_data.fillna(0)"
   ]
  },
  {
   "cell_type": "code",
   "execution_count": 16,
   "metadata": {
    "collapsed": true
   },
   "outputs": [],
   "source": [
    "add_more_feature(train_data)\n",
    "add_more_feature(test_data)"
   ]
  },
  {
   "cell_type": "code",
   "execution_count": 17,
   "metadata": {
    "collapsed": true
   },
   "outputs": [],
   "source": [
    "train_data.drop(['idhogar', 'Id', 'edjefe', 'edjefa'], axis=1, inplace=True)\n",
    "test_data.drop(['idhogar', 'edjefe', 'edjefa'], axis=1, inplace=True)"
   ]
  },
  {
   "cell_type": "code",
   "execution_count": 18,
   "metadata": {},
   "outputs": [
    {
     "data": {
      "text/plain": [
       "(9557, 167)"
      ]
     },
     "execution_count": 18,
     "metadata": {},
     "output_type": "execute_result"
    }
   ],
   "source": [
    "train_data.shape"
   ]
  },
  {
   "cell_type": "code",
   "execution_count": 19,
   "metadata": {},
   "outputs": [
    {
     "data": {
      "text/plain": [
       "(23856, 167)"
      ]
     },
     "execution_count": 19,
     "metadata": {},
     "output_type": "execute_result"
    }
   ],
   "source": [
    "test_data.shape"
   ]
  },
  {
   "cell_type": "code",
   "execution_count": 20,
   "metadata": {},
   "outputs": [
    {
     "name": "stdout",
     "output_type": "stream",
     "text": [
      "0.856977589514\n"
     ]
    }
   ],
   "source": [
    "x1, x2, y1, y2 = model_selection.train_test_split(train_data, target, test_size=0.20, random_state=5)\n",
    "model = RandomForestClassifier(n_jobs=-1, random_state=7)\n",
    "model.fit(x1, y1)\n",
    "print(f1_score(y2, model.predict(x2), average='macro'))"
   ]
  },
  {
   "cell_type": "code",
   "execution_count": 21,
   "metadata": {
    "collapsed": true,
    "scrolled": false
   },
   "outputs": [],
   "source": [
    "col = pd.DataFrame({'importance': model.feature_importances_,\n",
    "                    'feature': train_data.columns}).sort_values(by=['importance'], ascending=[False])['feature'].values"
   ]
  },
  {
   "cell_type": "code",
   "execution_count": 22,
   "metadata": {},
   "outputs": [
    {
     "data": {
      "text/plain": [
       "array(['meaneduc', 'SQBmeaned', 'house_holder_edu', 'SQBdependency',\n",
       "       'qmobilephone', 'SQBovercrowding', 'SQBhogar_nin', 'overcrowding',\n",
       "       'dependency', 'SQBedjefe', 'rooms', 'age', 'agesq', 'r4t1',\n",
       "       'SQBage', 'r4h3', 'r4t2', 'cielorazo', 'r4h2', 'hogar_nin', 'v2a1',\n",
       "       'r4m3', 'hogar_adul', 'hhsize', 'bedrooms', 'eviv3', 'tamviv',\n",
       "       'r4m1', 'escolari', 'r4m2', 'SQBescolari', 'v18q1', 'epared3',\n",
       "       'r4t3', 'tamhog', 'r4h1', 'hogar_total', 'paredblolad', 'lugar1',\n",
       "       'energcocinar2', 'SQBhogar_total', 'energcocinar3', 'paredpreb',\n",
       "       'epared2', 'area1', 'area2', 'pisomoscer', 'etecho3', 'paredmad',\n",
       "       'hogar_mayor', 'lugar4', 'tipovivi1', 'tipovivi3', 'pisocemento',\n",
       "       'television', 'etecho1', 'etecho2', 'sanitario3', 'eviv1',\n",
       "       'tipovivi5', 'epared1', 'eviv2', 'lugar5', 'v18q', 'sanitario2',\n",
       "       'energcocinar4', 'elimbasu3', 'lugar2', 'pisomadera', 'coopele',\n",
       "       'public', 'lugar3', 'elimbasu1', 'paredzocalo', 'tipovivi2',\n",
       "       'estadocivil3', 'lugar6', 'female', 'estadocivil2', 'male',\n",
       "       'estadocivil7', 'instlevel4', 'refrig', 'computer', 'mobilephone',\n",
       "       'parentesco3', 'instlevel2', 'abastaguadentro', 'dis', 'instlevel3',\n",
       "       'elimbasu2', 'estadocivil5', 'abastaguafuera', 'tipovivi4',\n",
       "       'parentesco1', 'techozinc', 'instlevel5', 'parentesco2',\n",
       "       'estadocivil6', 'rez_esc', 'parentesco6', 'paredzinc', 'sanitario5',\n",
       "       'estadocivil1', 'estadocivil4', 'v14a', 'pisonotiene', 'instlevel1',\n",
       "       'hacapo', 'instlevel8', 'hacdor', 'energcocinar1', 'parentesco9',\n",
       "       'instlevel7', 'elimbasu4', 'techoentrepiso', 'instlevel6',\n",
       "       'sanitario6', 'abastaguano', 'pareddes', 'parentesco7', 'noelec',\n",
       "       'parentesco5', 'techocane', 'parentesco10', 'parentesco12',\n",
       "       'planpri', 'paredother', 'parentesco8', 'sanitario1',\n",
       "       'parentesco11', 'paredfibras', 'parentesco4', 'elimbasu6',\n",
       "       'pisonatur', 'elimbasu5', 'pisoother', 'instlevel9', 'techootro'], dtype=object)"
      ]
     },
     "execution_count": 22,
     "metadata": {},
     "output_type": "execute_result"
    }
   ],
   "source": [
    "col"
   ]
  },
  {
   "cell_type": "code",
   "execution_count": 20,
   "metadata": {
    "collapsed": true
   },
   "outputs": [],
   "source": [
    "train_p = train_data[train_data['parentesco1'] == 1]\n",
    "target_p = target.loc[train_data['parentesco1'] == 1]"
   ]
  },
  {
   "cell_type": "code",
   "execution_count": 21,
   "metadata": {
    "collapsed": true
   },
   "outputs": [],
   "source": [
    "class_weights = class_weight.compute_class_weight('balanced', np.unique(target), target)\n",
    "class_weights = dict(zip(np.unique(target.values - 1), class_weights))"
   ]
  },
  {
   "cell_type": "code",
   "execution_count": 66,
   "metadata": {
    "collapsed": true
   },
   "outputs": [],
   "source": [
    "model_lgb = lgb.LGBMClassifier(objective='multiclass',\n",
    "                               num_leaves=144,\n",
    "                               num_class=len(np.unique(target)),\n",
    "                               learning_rate=0.001,\n",
    "                               n_estimators=600,\n",
    "                               max_depth=16,\n",
    "                               feature_fraction=0.85,\n",
    "                               bagging_fraction=0.85,\n",
    "                               bagging_freq=5,\n",
    "                               min_child_samples=10,\n",
    "                               subsample=0.85,\n",
    "                               num_threads=6,\n",
    "                               class_weight=class_weights)"
   ]
  },
  {
   "cell_type": "code",
   "execution_count": 67,
   "metadata": {},
   "outputs": [
    {
     "name": "stdout",
     "output_type": "stream",
     "text": [
      "LGBM model score for house holder: 0.4157 (0.0206)\n",
      "\n"
     ]
    }
   ],
   "source": [
    "score_p = f1_cv(model_lgb, train_p, target_p - 1)\n",
    "print(\"LGBM model score for house holder: {:.4f} ({:.4f})\\n\".format(score_p.mean(), score_p.std()))\n",
    "\n",
    "#score = f1_cv(model_lgb, train_data, target - 1)\n",
    "#print(\"LGBM model score for all: {:.4f} ({:.4f})\\n\".format(score.mean(), score.std()))"
   ]
  },
  {
   "cell_type": "code",
   "execution_count": null,
   "metadata": {
    "collapsed": true
   },
   "outputs": [],
   "source": [
    "def evaluate_macroF1_lgb(truth, predictions):\n",
    "    pred_labels = predictions.reshape(len(np.unique(truth)),-1).argmax(axis=0)\n",
    "    f1 = f1_score(truth, pred_labels, average='macro')\n",
    "    return ('macroF1', f1, True) "
   ]
  },
  {
   "cell_type": "code",
   "execution_count": 24,
   "metadata": {},
   "outputs": [
    {
     "data": {
      "text/plain": [
       "LGBMClassifier(bagging_fraction=0.85, bagging_freq=5, boosting_type='gbdt',\n",
       "        class_weight={0: 3.1645695364238411, 1: 1.4960864120225423, 2: 1.9762200165425972, 3: 0.39847398265510342},\n",
       "        colsample_bytree=1.0, feature_fraction=0.85, learning_rate=0.001,\n",
       "        max_depth=20, metric='multi_logloss', min_child_samples=20,\n",
       "        min_child_weight=0.001, min_split_gain=0.0, n_estimators=800,\n",
       "        n_jobs=-1, num_class=4, num_leaves=144, num_threads=6,\n",
       "        objective='multiclass', random_state=None, reg_alpha=0.0,\n",
       "        reg_lambda=0.0, silent=True, subsample=1.0,\n",
       "        subsample_for_bin=200000, subsample_freq=1)"
      ]
     },
     "execution_count": 24,
     "metadata": {},
     "output_type": "execute_result"
    }
   ],
   "source": [
    "model_lgb.fit(train_data,\n",
    "              target - 1,\n",
    "              eval_metric=evaluate_macroF1_lgb)"
   ]
  },
  {
   "cell_type": "code",
   "execution_count": 24,
   "metadata": {
    "collapsed": true
   },
   "outputs": [],
   "source": [
    "pred = model_lgb.predict(test_data)"
   ]
  },
  {
   "cell_type": "code",
   "execution_count": 25,
   "metadata": {
    "collapsed": true
   },
   "outputs": [],
   "source": [
    "submit = pd.DataFrame()\n",
    "submit['Id'] = test_id"
   ]
  },
  {
   "cell_type": "code",
   "execution_count": 26,
   "metadata": {
    "collapsed": true
   },
   "outputs": [],
   "source": [
    "submit['Target'] = pred + 1\n",
    "submit.to_csv('sample_prediction.csv', index=False)"
   ]
  },
  {
   "cell_type": "code",
   "execution_count": null,
   "metadata": {
    "collapsed": true
   },
   "outputs": [],
   "source": []
  }
 ],
 "metadata": {
  "kernelspec": {
   "display_name": "Python 3",
   "language": "python",
   "name": "python3"
  },
  "language_info": {
   "codemirror_mode": {
    "name": "ipython",
    "version": 3
   },
   "file_extension": ".py",
   "mimetype": "text/x-python",
   "name": "python",
   "nbconvert_exporter": "python",
   "pygments_lexer": "ipython3",
   "version": "3.6.1"
  }
 },
 "nbformat": 4,
 "nbformat_minor": 2
}
